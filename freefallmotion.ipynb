{
 "cells": [
  {
   "cell_type": "code",
   "execution_count": 6,
   "metadata": {},
   "outputs": [],
   "source": [
    "import matplotlib.pyplot as plt"
   ]
  },
  {
   "cell_type": "code",
   "execution_count": 7,
   "metadata": {},
   "outputs": [],
   "source": [
    "def analytical(gravity,x0,data):\n",
    "    global hasil\n",
    "    hasil =  []\n",
    "    for i in range(len(data)):\n",
    "        hasil.append(((1/2*gravity*(data[i]**2))+x0))\n",
    "    return hasil\n"
   ]
  },
  {
   "cell_type": "code",
   "execution_count": 8,
   "metadata": {},
   "outputs": [],
   "source": [
    "def loop(n):\n",
    "    global data2\n",
    "    x = 0.1\n",
    "    for i in range(n):\n",
    "        data2.append(x)\n",
    "        x = x+0.1\n",
    "    return data2"
   ]
  },
  {
   "cell_type": "code",
   "execution_count": 9,
   "metadata": {},
   "outputs": [],
   "source": [
    "def numerical(gravity,x0,data,deltaT):\n",
    "    global Vt \n",
    "    Hasil2 = []\n",
    "    Vtemp = []\n",
    "    for i in range(len(data)):\n",
    "        Vt = gravity*data[i] + Vt\n",
    "        Vtemp.append(Vt)  \n",
    "        if x0 == x0:\n",
    "            Hasil2.append(Vtemp[i]*deltaT+x0)\n",
    "        else:\n",
    "            Hasil2.append(Vtemp[i]*deltaT)\n",
    "        if Hasil2[-1] < 0:\n",
    "            del Hasil2[-1]\n",
    "    return Hasil2 ,len(Hasil2)"
   ]
  },
  {
   "cell_type": "code",
   "execution_count": 11,
   "metadata": {},
   "outputs": [
    {
     "name": "stdout",
     "output_type": "stream",
     "text": [
      "Hasil analitik :  [675.951, 675.804, 675.559, 675.216, 674.775, 674.236, 673.599, 672.864, 672.031, 671.1, 670.071, 668.944, 667.719, 666.396, 664.975, 663.456, 661.8389999999999, 660.124, 658.311, 656.4, 654.391, 652.284, 650.079, 647.776, 645.375, 642.876, 640.279, 637.584, 634.7909999999999, 631.9, 628.911, 625.824, 622.6389999999999, 619.356, 615.9749999999999, 612.496, 608.9189999999999, 605.2439999999999, 601.4709999999999, 597.5999999999999, 593.631, 589.564, 585.399, 581.136, 576.775, 572.316, 567.759, 563.104, 558.3510000000001, 553.5000000000001, 548.5510000000002, 543.5040000000001, 538.3590000000002, 533.1160000000002, 527.7750000000002, 522.3360000000002, 516.7990000000002, 511.16400000000027, 505.43100000000027, 499.6000000000003, 493.67100000000033, 487.64400000000035, 481.51900000000035, 475.2960000000004, 468.9750000000005, 462.5560000000005, 456.0390000000005, 449.42400000000055, 442.7110000000006, 435.90000000000055, 428.99100000000067, 421.98400000000066, 414.8790000000007, 407.6760000000007, 400.3750000000008, 392.9760000000008, 385.47900000000084, 377.88400000000087, 370.1910000000009, 362.40000000000094, 354.51100000000105, 346.524000000001, 338.4390000000011, 330.25600000000117, 321.97500000000116, 313.5960000000012, 305.1190000000012, 296.5440000000013, 287.87100000000135, 279.1000000000014, 270.2310000000014, 261.2640000000015, 252.19900000000155, 243.0360000000016, 233.77500000000163, 224.41600000000165, 214.9590000000017, 205.40400000000176, 195.7510000000018, 186.00000000000193, 176.15100000000194, 166.204000000002, 156.15900000000204, 146.01600000000212, 135.77500000000214]\n"
     ]
    },
    {
     "ename": "NameError",
     "evalue": "name 'data' is not defined",
     "output_type": "error",
     "traceback": [
      "\u001b[0;31m---------------------------------------------------------------------------\u001b[0m",
      "\u001b[0;31mNameError\u001b[0m                                 Traceback (most recent call last)",
      "\u001b[0;32m<ipython-input-11-e4b08e6e750e>\u001b[0m in \u001b[0;36m<module>\u001b[0;34m\u001b[0m\n\u001b[1;32m     12\u001b[0m \u001b[0mhasil\u001b[0m \u001b[0;34m=\u001b[0m \u001b[0manalytical\u001b[0m\u001b[0;34m(\u001b[0m\u001b[0mgravity\u001b[0m\u001b[0;34m,\u001b[0m\u001b[0mx0\u001b[0m\u001b[0;34m,\u001b[0m\u001b[0mbanyakN\u001b[0m\u001b[0;34m)\u001b[0m\u001b[0;34m\u001b[0m\u001b[0;34m\u001b[0m\u001b[0m\n\u001b[1;32m     13\u001b[0m \u001b[0mprint\u001b[0m\u001b[0;34m(\u001b[0m\u001b[0;34m'Hasil analitik : '\u001b[0m\u001b[0;34m,\u001b[0m\u001b[0mhasil\u001b[0m\u001b[0;34m)\u001b[0m\u001b[0;34m\u001b[0m\u001b[0;34m\u001b[0m\u001b[0m\n\u001b[0;32m---> 14\u001b[0;31m \u001b[0mprint\u001b[0m\u001b[0;34m(\u001b[0m\u001b[0;34m'Hasil numerik  : '\u001b[0m\u001b[0;34m,\u001b[0m\u001b[0mnumerical\u001b[0m\u001b[0;34m(\u001b[0m\u001b[0mgravity\u001b[0m\u001b[0;34m,\u001b[0m\u001b[0mx0\u001b[0m\u001b[0;34m,\u001b[0m\u001b[0mdata\u001b[0m\u001b[0;34m,\u001b[0m\u001b[0mdeltaT\u001b[0m\u001b[0;34m)\u001b[0m\u001b[0;34m)\u001b[0m\u001b[0;34m\u001b[0m\u001b[0;34m\u001b[0m\u001b[0m\n\u001b[0m\u001b[1;32m     15\u001b[0m \u001b[0;31m# waktutotal\u001b[0m\u001b[0;34m\u001b[0m\u001b[0;34m\u001b[0m\u001b[0;34m\u001b[0m\u001b[0m\n\u001b[1;32m     16\u001b[0m \u001b[0mprint\u001b[0m\u001b[0;34m(\u001b[0m\u001b[0;34m'Waktu Total : '\u001b[0m\u001b[0;34m,\u001b[0m\u001b[0;34m(\u001b[0m\u001b[0;34m(\u001b[0m\u001b[0;34m(\u001b[0m\u001b[0;34m-\u001b[0m\u001b[0;36m2\u001b[0m\u001b[0;34m)\u001b[0m\u001b[0;34m*\u001b[0m\u001b[0mx0\u001b[0m\u001b[0;34m)\u001b[0m\u001b[0;34m/\u001b[0m\u001b[0mgravity\u001b[0m\u001b[0;34m)\u001b[0m\u001b[0;34m**\u001b[0m\u001b[0;34m(\u001b[0m\u001b[0;36m1\u001b[0m\u001b[0;34m/\u001b[0m\u001b[0;36m2\u001b[0m\u001b[0;34m)\u001b[0m\u001b[0;34m)\u001b[0m\u001b[0;34m\u001b[0m\u001b[0;34m\u001b[0m\u001b[0m\n",
      "\u001b[0;31mNameError\u001b[0m: name 'data' is not defined"
     ]
    }
   ],
   "source": [
    "\n",
    "Vt = 0\n",
    "deltaT = 0.1\n",
    "gravity = -9.8\n",
    "x0 = 676\n",
    "x02 = 676\n",
    "# data = [0.1,0.2,0.3,0.4]\n",
    "data2 = []\n",
    "N = 105\n",
    "\n",
    "\n",
    "banyakN = loop(N)\n",
    "hasil = analytical(gravity,x0,banyakN)\n",
    "print('Hasil analitik : ',hasil)\n",
    "# print('Hasil numerik  : ',numerik(gravity,x0,data,deltaT))\n",
    "# waktutotal\n",
    "# print('Waktu Total : ',(((-2)*x0)/gravity)**(1/2))\n",
    "#SOAL @\n",
    "HasilNum,iterasi = numerical(gravity,x02,banyakN,deltaT)\n",
    "print('Hasil Numerik : ',HasilNum)\n",
    "time = iterasi\n",
    "print('Total Waktu: ',time*0.1,'second')\n",
    "# Grafik\n",
    "# Xlabel\n",
    "xlabel = []\n",
    "i = 1\n",
    "while i <= time:\n",
    "    xlabel.append(i*0.1)\n",
    "    i = i+1\n",
    "\n",
    "xlabel2 = []\n",
    "i = 1\n",
    "while i <= len(hasil):\n",
    "    xlabel2.append(i*0.1)\n",
    "    i = i+1\n",
    "\n",
    "plt.plot(xlabel2,hasil, '.r' , label = \"Analitik\")\n",
    "plt.plot(xlabel,HasilNum, '--b' , label = \"Numerik\")\n",
    "plt.legend(loc=\"upper right\")\n",
    "plt.ylabel('Tinggi')\n",
    "plt.xlabel('Waktu (Second)')\n",
    "plt.show()"
   ]
  },
  {
   "cell_type": "code",
   "execution_count": null,
   "metadata": {},
   "outputs": [],
   "source": []
  }
 ],
 "metadata": {
  "kernelspec": {
   "display_name": "Python 3",
   "language": "python",
   "name": "python3"
  },
  "language_info": {
   "codemirror_mode": {
    "name": "ipython",
    "version": 3
   },
   "file_extension": ".py",
   "mimetype": "text/x-python",
   "name": "python",
   "nbconvert_exporter": "python",
   "pygments_lexer": "ipython3",
   "version": "3.9.1+"
  }
 },
 "nbformat": 4,
 "nbformat_minor": 4
}
