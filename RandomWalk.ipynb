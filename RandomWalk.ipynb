{
 "cells": [
  {
   "cell_type": "markdown",
   "metadata": {},
   "source": [
    "# MUHAMMAD IHZA MAHENDRA (1301174682) / RANDOM WALK MC"
   ]
  },
  {
   "cell_type": "code",
   "execution_count": 10,
   "metadata": {},
   "outputs": [
    {
     "name": "stdout",
     "output_type": "stream",
     "text": [
      "Requirement already satisfied: numpy in /usr/lib/python3/dist-packages (1.19.5)\n"
     ]
    }
   ],
   "source": [
    "!pip install numpy"
   ]
  },
  {
   "cell_type": "code",
   "execution_count": 11,
   "metadata": {},
   "outputs": [],
   "source": [
    "import random\n",
    "import numpy as np\n",
    "import matplotlib.pyplot as plt"
   ]
  },
  {
   "cell_type": "code",
   "execution_count": 12,
   "metadata": {},
   "outputs": [],
   "source": [
    "# Parameters are changeable, increase the number if you wish.\n",
    "n_iter = 3\n",
    "n_particle=10"
   ]
  },
  {
   "cell_type": "code",
   "execution_count": 13,
   "metadata": {},
   "outputs": [],
   "source": [
    "# Define function random_walk\n",
    "def random_walk(xdis2,ydis2,n_iter,n_step):\n",
    "\n",
    "    # Initiate variables start from 0\n",
    "    x=0\n",
    "    y=0\n",
    "    ydis2=0\n",
    "    xdis2=0\n",
    "\n",
    "    # Let's walk\n",
    "    for n in range(n_iter):\n",
    "        for m in range(n_step):\n",
    "            #random number [0 ~ 1]\n",
    "            walk=random.uniform(0, 1)\n",
    "            #move right\n",
    "            if walk <= 0.25:\n",
    "                x=x+1\n",
    "            #move left\n",
    "            elif walk <= 0.75:\n",
    "                x=x-1\n",
    "            #move down\n",
    "            elif walk <= 0.50:\n",
    "                y=y-1\n",
    "            #move up\n",
    "            else :\n",
    "                y=y+1\n",
    "        xdis2=xdis2+x*x\n",
    "        ydis2=ydis2+y*y\n",
    "    xdis2=xdis2/n_iter\n",
    "    ydis2=ydis2/n_iter\n",
    "\n",
    "    return xdis2, ydis2"
   ]
  },
  {
   "cell_type": "code",
   "execution_count": 14,
   "metadata": {},
   "outputs": [],
   "source": [
    "# Variables to plot while generate the random walk\n",
    "n_step = []\n",
    "x2 = []\n",
    "y2 = []\n",
    "ydistance2=0\n",
    "xdistance2=0"
   ]
  },
  {
   "cell_type": "code",
   "execution_count": 15,
   "metadata": {},
   "outputs": [
    {
     "data": {
      "image/png": "[encoded data removed]",
      "text/plain": [
       "<Figure size 432x288 with 1 Axes>"
      ]
     },
     "metadata": {
      "needs_background": "light"
     },
     "output_type": "display_data"
    }
   ],
   "source": [
    "# Calculate the average of x^2 and y^2 after the random walk\n",
    "# plt.scatter(y2,x2) to see all the particles\n",
    "for n in range(n_particle):\n",
    "    n_step.append(n+1)\n",
    "    x20,y20 = random_walk(xdistance2,ydistance2,n_iter,n_step[n])\n",
    "    x2.append(x20)\n",
    "    y2.append(y20)\n",
    "    plt.scatter(y2[n],x2[n])\n",
    "\n",
    "\n",
    "plt.show()"
   ]
  },
  {
   "cell_type": "code",
   "execution_count": 16,
   "metadata": {},
   "outputs": [
    {
     "data": {
      "image/png": "[encoded data removed]",
      "text/plain": [
       "<Figure size 432x288 with 1 Axes>"
      ]
     },
     "metadata": {
      "needs_background": "light"
     },
     "output_type": "display_data"
    }
   ],
   "source": [
    "plt.scatter(y2,x2)\n",
    "plt.show()"
   ]
  },
  {
   "cell_type": "code",
   "execution_count": 17,
   "metadata": {},
   "outputs": [
    {
     "data": {
      "text/plain": [
       "<matplotlib.collections.PathCollection at 0x7fcdedd3b790>"
      ]
     },
     "execution_count": 17,
     "metadata": {},
     "output_type": "execute_result"
    },
    {
     "data": {
      "image/png": "[encoded data removed]",
      "text/plain": [
       "<Figure size 432x288 with 1 Axes>"
      ]
     },
     "metadata": {
      "needs_background": "light"
     },
     "output_type": "display_data"
    }
   ],
   "source": [
    "# Plot y^2 via step\n",
    "plt.scatter(y2,n_step)"
   ]
  },
  {
   "cell_type": "code",
   "execution_count": 18,
   "metadata": {},
   "outputs": [
    {
     "data": {
      "text/plain": [
       "<matplotlib.collections.PathCollection at 0x7fcdedc96460>"
      ]
     },
     "execution_count": 18,
     "metadata": {},
     "output_type": "execute_result"
    },
    {
     "data": {
      "image/png": "[encoded data removed]",
      "text/plain": [
       "<Figure size 432x288 with 1 Axes>"
      ]
     },
     "metadata": {
      "needs_background": "light"
     },
     "output_type": "display_data"
    }
   ],
   "source": [
    "# Plot x^2 via step\n",
    "plt.scatter(x2,n_step)"
   ]
  },
  {
   "cell_type": "code",
   "execution_count": null,
   "metadata": {},
   "outputs": [],
   "source": []
  },
  {
   "cell_type": "code",
   "execution_count": null,
   "metadata": {},
   "outputs": [],
   "source": []
  }
 ],
 "metadata": {
  "kernelspec": {
   "display_name": "Python 3",
   "language": "python",
   "name": "python3"
  },
  "language_info": {
   "codemirror_mode": {
    "name": "ipython",
    "version": 3
   },
   "file_extension": ".py",
   "mimetype": "text/x-python",
   "name": "python",
   "nbconvert_exporter": "python",
   "pygments_lexer": "ipython3",
   "version": "3.9.2"
  }
 },
 "nbformat": 4,
 "nbformat_minor": 4
}
